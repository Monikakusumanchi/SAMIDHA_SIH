{
  "nbformat": 4,
  "nbformat_minor": 0,
  "metadata": {
    "colab": {
      "name": "dredger_calculator.ipynb",
      "provenance": []
    },
    "kernelspec": {
      "name": "python3",
      "display_name": "Python 3"
    },
    "language_info": {
      "name": "python"
    }
  },
  "cells": [
    {
      "cell_type": "code",
      "execution_count": null,
      "metadata": {
        "id": "1EiCgxP6hC6Y",
        "colab": {
          "resources": {
            "http://localhost:8080/nbextensions/google.colab/files.js": {
              "data": "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",
              "ok": true,
              "headers": [
                [
                  "content-type",
                  "application/javascript"
                ]
              ],
              "status": 200,
              "status_text": ""
            }
          },
          "base_uri": "https://localhost:8080/",
          "height": 73
        },
        "outputId": "2a954684-afb8-4f73-e983-f515dc9aefbe"
      },
      "outputs": [
        {
          "output_type": "display_data",
          "data": {
            "text/plain": [
              "<IPython.core.display.HTML object>"
            ],
            "text/html": [
              "\n",
              "     <input type=\"file\" id=\"files-3dc88ca4-b304-4669-a335-53fdd435ee61\" name=\"files[]\" multiple disabled\n",
              "        style=\"border:none\" />\n",
              "     <output id=\"result-3dc88ca4-b304-4669-a335-53fdd435ee61\">\n",
              "      Upload widget is only available when the cell has been executed in the\n",
              "      current browser session. Please rerun this cell to enable.\n",
              "      </output>\n",
              "      <script src=\"/nbextensions/google.colab/files.js\"></script> "
            ]
          },
          "metadata": {}
        },
        {
          "output_type": "stream",
          "name": "stdout",
          "text": [
            "Saving dredger.csv to dredger.csv\n"
          ]
        }
      ],
      "source": [
        "from google.colab import files\n",
        "\n",
        "\n",
        "uploaded = files.upload()"
      ]
    },
    {
      "cell_type": "code",
      "source": [
        "import numpy as np\n",
        "import pandas as pd\n",
        "import matplotlib.pyplot as plt\n",
        "import seaborn as sns"
      ],
      "metadata": {
        "id": "rEUI4z9R_BYW"
      },
      "execution_count": null,
      "outputs": []
    },
    {
      "cell_type": "code",
      "source": [
        "df=pd.read_csv(\"dredger.csv\")"
      ],
      "metadata": {
        "id": "6FMKu4T3_BVK"
      },
      "execution_count": null,
      "outputs": []
    },
    {
      "cell_type": "code",
      "source": [
        "df"
      ],
      "metadata": {
        "id": "twNAwk1t_BSa",
        "colab": {
          "base_uri": "https://localhost:8080/",
          "height": 522
        },
        "outputId": "beb94eb8-1f95-499e-f40e-edebe8fc8d08"
      },
      "execution_count": null,
      "outputs": [
        {
          "output_type": "execute_result",
          "data": {
            "text/plain": [
              "    sno  type of land  type of dredger  fuel_consumed(lt/hr)  total_power(kW)  \\\n",
              "0     1             0                1                    31              134   \n",
              "1     2             1                2                    40              171   \n",
              "2     3             2                2                    41              176   \n",
              "3     4             3                0                    34              147   \n",
              "4     5             1                2                    42              179   \n",
              "..  ...           ...              ...                   ...              ...   \n",
              "59   60             2                0                   356             1524   \n",
              "60   61             3                1                   369             1580   \n",
              "61   62             2                1                   382             1638   \n",
              "62   63             1                2                   396             1697   \n",
              "63   64             0                2                   410             1758   \n",
              "\n",
              "    volume(m3/hr)  total working hours  Required Pump Power  \\\n",
              "0             700                  800                107.0   \n",
              "1             600                  600                147.0   \n",
              "2             800                  900                145.0   \n",
              "3             900                  560                112.0   \n",
              "4            1000                  346                140.0   \n",
              "..            ...                  ...                  ...   \n",
              "59           6600                  657               1315.0   \n",
              "60           6700                  456               1368.0   \n",
              "61           6800                  768               1424.0   \n",
              "62           6900                  678               1480.0   \n",
              "63           7000                  576                  NaN   \n",
              "\n",
              "    Required Cutter Power  \n",
              "0                    28.0  \n",
              "1                    24.0  \n",
              "2                    32.0  \n",
              "3                    36.0  \n",
              "4                    40.0  \n",
              "..                    ...  \n",
              "59                  266.0  \n",
              "60                  270.0  \n",
              "61                  274.0  \n",
              "62                  278.0  \n",
              "63                    NaN  \n",
              "\n",
              "[64 rows x 9 columns]"
            ],
            "text/html": [
              "\n",
              "  <div id=\"df-cccf0c7a-6593-4030-8709-0e441b6920c8\">\n",
              "    <div class=\"colab-df-container\">\n",
              "      <div>\n",
              "<style scoped>\n",
              "    .dataframe tbody tr th:only-of-type {\n",
              "        vertical-align: middle;\n",
              "    }\n",
              "\n",
              "    .dataframe tbody tr th {\n",
              "        vertical-align: top;\n",
              "    }\n",
              "\n",
              "    .dataframe thead th {\n",
              "        text-align: right;\n",
              "    }\n",
              "</style>\n",
              "<table border=\"1\" class=\"dataframe\">\n",
              "  <thead>\n",
              "    <tr style=\"text-align: right;\">\n",
              "      <th></th>\n",
              "      <th>sno</th>\n",
              "      <th>type of land</th>\n",
              "      <th>type of dredger</th>\n",
              "      <th>fuel_consumed(lt/hr)</th>\n",
              "      <th>total_power(kW)</th>\n",
              "      <th>volume(m3/hr)</th>\n",
              "      <th>total working hours</th>\n",
              "      <th>Required Pump Power</th>\n",
              "      <th>Required Cutter Power</th>\n",
              "    </tr>\n",
              "  </thead>\n",
              "  <tbody>\n",
              "    <tr>\n",
              "      <th>0</th>\n",
              "      <td>1</td>\n",
              "      <td>0</td>\n",
              "      <td>1</td>\n",
              "      <td>31</td>\n",
              "      <td>134</td>\n",
              "      <td>700</td>\n",
              "      <td>800</td>\n",
              "      <td>107.0</td>\n",
              "      <td>28.0</td>\n",
              "    </tr>\n",
              "    <tr>\n",
              "      <th>1</th>\n",
              "      <td>2</td>\n",
              "      <td>1</td>\n",
              "      <td>2</td>\n",
              "      <td>40</td>\n",
              "      <td>171</td>\n",
              "      <td>600</td>\n",
              "      <td>600</td>\n",
              "      <td>147.0</td>\n",
              "      <td>24.0</td>\n",
              "    </tr>\n",
              "    <tr>\n",
              "      <th>2</th>\n",
              "      <td>3</td>\n",
              "      <td>2</td>\n",
              "      <td>2</td>\n",
              "      <td>41</td>\n",
              "      <td>176</td>\n",
              "      <td>800</td>\n",
              "      <td>900</td>\n",
              "      <td>145.0</td>\n",
              "      <td>32.0</td>\n",
              "    </tr>\n",
              "    <tr>\n",
              "      <th>3</th>\n",
              "      <td>4</td>\n",
              "      <td>3</td>\n",
              "      <td>0</td>\n",
              "      <td>34</td>\n",
              "      <td>147</td>\n",
              "      <td>900</td>\n",
              "      <td>560</td>\n",
              "      <td>112.0</td>\n",
              "      <td>36.0</td>\n",
              "    </tr>\n",
              "    <tr>\n",
              "      <th>4</th>\n",
              "      <td>5</td>\n",
              "      <td>1</td>\n",
              "      <td>2</td>\n",
              "      <td>42</td>\n",
              "      <td>179</td>\n",
              "      <td>1000</td>\n",
              "      <td>346</td>\n",
              "      <td>140.0</td>\n",
              "      <td>40.0</td>\n",
              "    </tr>\n",
              "    <tr>\n",
              "      <th>...</th>\n",
              "      <td>...</td>\n",
              "      <td>...</td>\n",
              "      <td>...</td>\n",
              "      <td>...</td>\n",
              "      <td>...</td>\n",
              "      <td>...</td>\n",
              "      <td>...</td>\n",
              "      <td>...</td>\n",
              "      <td>...</td>\n",
              "    </tr>\n",
              "    <tr>\n",
              "      <th>59</th>\n",
              "      <td>60</td>\n",
              "      <td>2</td>\n",
              "      <td>0</td>\n",
              "      <td>356</td>\n",
              "      <td>1524</td>\n",
              "      <td>6600</td>\n",
              "      <td>657</td>\n",
              "      <td>1315.0</td>\n",
              "      <td>266.0</td>\n",
              "    </tr>\n",
              "    <tr>\n",
              "      <th>60</th>\n",
              "      <td>61</td>\n",
              "      <td>3</td>\n",
              "      <td>1</td>\n",
              "      <td>369</td>\n",
              "      <td>1580</td>\n",
              "      <td>6700</td>\n",
              "      <td>456</td>\n",
              "      <td>1368.0</td>\n",
              "      <td>270.0</td>\n",
              "    </tr>\n",
              "    <tr>\n",
              "      <th>61</th>\n",
              "      <td>62</td>\n",
              "      <td>2</td>\n",
              "      <td>1</td>\n",
              "      <td>382</td>\n",
              "      <td>1638</td>\n",
              "      <td>6800</td>\n",
              "      <td>768</td>\n",
              "      <td>1424.0</td>\n",
              "      <td>274.0</td>\n",
              "    </tr>\n",
              "    <tr>\n",
              "      <th>62</th>\n",
              "      <td>63</td>\n",
              "      <td>1</td>\n",
              "      <td>2</td>\n",
              "      <td>396</td>\n",
              "      <td>1697</td>\n",
              "      <td>6900</td>\n",
              "      <td>678</td>\n",
              "      <td>1480.0</td>\n",
              "      <td>278.0</td>\n",
              "    </tr>\n",
              "    <tr>\n",
              "      <th>63</th>\n",
              "      <td>64</td>\n",
              "      <td>0</td>\n",
              "      <td>2</td>\n",
              "      <td>410</td>\n",
              "      <td>1758</td>\n",
              "      <td>7000</td>\n",
              "      <td>576</td>\n",
              "      <td>NaN</td>\n",
              "      <td>NaN</td>\n",
              "    </tr>\n",
              "  </tbody>\n",
              "</table>\n",
              "<p>64 rows × 9 columns</p>\n",
              "</div>\n",
              "      <button class=\"colab-df-convert\" onclick=\"convertToInteractive('df-cccf0c7a-6593-4030-8709-0e441b6920c8')\"\n",
              "              title=\"Convert this dataframe to an interactive table.\"\n",
              "              style=\"display:none;\">\n",
              "        \n",
              "  <svg xmlns=\"http://www.w3.org/2000/svg\" height=\"24px\"viewBox=\"0 0 24 24\"\n",
              "       width=\"24px\">\n",
              "    <path d=\"M0 0h24v24H0V0z\" fill=\"none\"/>\n",
              "    <path d=\"M18.56 5.44l.94 2.06.94-2.06 2.06-.94-2.06-.94-.94-2.06-.94 2.06-2.06.94zm-11 1L8.5 8.5l.94-2.06 2.06-.94-2.06-.94L8.5 2.5l-.94 2.06-2.06.94zm10 10l.94 2.06.94-2.06 2.06-.94-2.06-.94-.94-2.06-.94 2.06-2.06.94z\"/><path d=\"M17.41 7.96l-1.37-1.37c-.4-.4-.92-.59-1.43-.59-.52 0-1.04.2-1.43.59L10.3 9.45l-7.72 7.72c-.78.78-.78 2.05 0 2.83L4 21.41c.39.39.9.59 1.41.59.51 0 1.02-.2 1.41-.59l7.78-7.78 2.81-2.81c.8-.78.8-2.07 0-2.86zM5.41 20L4 18.59l7.72-7.72 1.47 1.35L5.41 20z\"/>\n",
              "  </svg>\n",
              "      </button>\n",
              "      \n",
              "  <style>\n",
              "    .colab-df-container {\n",
              "      display:flex;\n",
              "      flex-wrap:wrap;\n",
              "      gap: 12px;\n",
              "    }\n",
              "\n",
              "    .colab-df-convert {\n",
              "      background-color: #E8F0FE;\n",
              "      border: none;\n",
              "      border-radius: 50%;\n",
              "      cursor: pointer;\n",
              "      display: none;\n",
              "      fill: #1967D2;\n",
              "      height: 32px;\n",
              "      padding: 0 0 0 0;\n",
              "      width: 32px;\n",
              "    }\n",
              "\n",
              "    .colab-df-convert:hover {\n",
              "      background-color: #E2EBFA;\n",
              "      box-shadow: 0px 1px 2px rgba(60, 64, 67, 0.3), 0px 1px 3px 1px rgba(60, 64, 67, 0.15);\n",
              "      fill: #174EA6;\n",
              "    }\n",
              "\n",
              "    [theme=dark] .colab-df-convert {\n",
              "      background-color: #3B4455;\n",
              "      fill: #D2E3FC;\n",
              "    }\n",
              "\n",
              "    [theme=dark] .colab-df-convert:hover {\n",
              "      background-color: #434B5C;\n",
              "      box-shadow: 0px 1px 3px 1px rgba(0, 0, 0, 0.15);\n",
              "      filter: drop-shadow(0px 1px 2px rgba(0, 0, 0, 0.3));\n",
              "      fill: #FFFFFF;\n",
              "    }\n",
              "  </style>\n",
              "\n",
              "      <script>\n",
              "        const buttonEl =\n",
              "          document.querySelector('#df-cccf0c7a-6593-4030-8709-0e441b6920c8 button.colab-df-convert');\n",
              "        buttonEl.style.display =\n",
              "          google.colab.kernel.accessAllowed ? 'block' : 'none';\n",
              "\n",
              "        async function convertToInteractive(key) {\n",
              "          const element = document.querySelector('#df-cccf0c7a-6593-4030-8709-0e441b6920c8');\n",
              "          const dataTable =\n",
              "            await google.colab.kernel.invokeFunction('convertToInteractive',\n",
              "                                                     [key], {});\n",
              "          if (!dataTable) return;\n",
              "\n",
              "          const docLinkHtml = 'Like what you see? Visit the ' +\n",
              "            '<a target=\"_blank\" href=https://colab.research.google.com/notebooks/data_table.ipynb>data table notebook</a>'\n",
              "            + ' to learn more about interactive tables.';\n",
              "          element.innerHTML = '';\n",
              "          dataTable['output_type'] = 'display_data';\n",
              "          await google.colab.output.renderOutput(dataTable, element);\n",
              "          const docLink = document.createElement('div');\n",
              "          docLink.innerHTML = docLinkHtml;\n",
              "          element.appendChild(docLink);\n",
              "        }\n",
              "      </script>\n",
              "    </div>\n",
              "  </div>\n",
              "  "
            ]
          },
          "metadata": {},
          "execution_count": 5
        }
      ]
    },
    {
      "cell_type": "code",
      "source": [
        "df.shape"
      ],
      "metadata": {
        "id": "uO_uQF5r_BP0",
        "colab": {
          "base_uri": "https://localhost:8080/"
        },
        "outputId": "0d776554-60cf-4ec1-d371-bf4affcee0dc"
      },
      "execution_count": null,
      "outputs": [
        {
          "output_type": "execute_result",
          "data": {
            "text/plain": [
              "(64, 9)"
            ]
          },
          "metadata": {},
          "execution_count": 6
        }
      ]
    },
    {
      "cell_type": "code",
      "source": [
        "df.describe()"
      ],
      "metadata": {
        "id": "fl4P4_wU_BNE",
        "colab": {
          "base_uri": "https://localhost:8080/",
          "height": 399
        },
        "outputId": "c1604aa6-888f-47db-fc7d-97c1d7899405"
      },
      "execution_count": null,
      "outputs": [
        {
          "output_type": "execute_result",
          "data": {
            "text/plain": [
              "             sno  type of land  type of dredger  fuel_consumed(lt/hr)  \\\n",
              "count  64.000000     64.000000        64.000000             64.000000   \n",
              "mean   32.500000      1.468750         1.031250            158.578125   \n",
              "std    18.618987      1.112251         0.815889            105.550229   \n",
              "min     1.000000      0.000000         0.000000             31.000000   \n",
              "25%    16.750000      0.750000         0.000000             77.500000   \n",
              "50%    32.500000      1.000000         1.000000            118.000000   \n",
              "75%    48.250000      2.000000         2.000000            227.250000   \n",
              "max    64.000000      3.000000         2.000000            410.000000   \n",
              "\n",
              "       total_power(kW)  volume(m3/hr)  total working hours  \\\n",
              "count        64.000000      64.000000            64.000000   \n",
              "mean        678.578125    3810.937500           706.171875   \n",
              "std         452.736786    1903.640388           145.246977   \n",
              "min         134.000000     600.000000           346.000000   \n",
              "25%         331.500000    2175.000000           600.000000   \n",
              "50%         504.000000    3850.000000           690.000000   \n",
              "75%         971.750000    5425.000000           785.250000   \n",
              "max        1758.000000    7000.000000           987.000000   \n",
              "\n",
              "       Required Pump Power  Required Cutter Power  \n",
              "count            63.000000              63.000000  \n",
              "mean            531.015873             151.095238  \n",
              "std             384.245532              76.177152  \n",
              "min             107.000000              24.000000  \n",
              "25%             243.500000              85.000000  \n",
              "50%             361.000000             155.000000  \n",
              "75%             765.500000             216.000000  \n",
              "max            1480.000000             278.000000  "
            ],
            "text/html": [
              "\n",
              "  <div id=\"df-a783b803-3bd2-469c-92a7-acb6eeaca842\">\n",
              "    <div class=\"colab-df-container\">\n",
              "      <div>\n",
              "<style scoped>\n",
              "    .dataframe tbody tr th:only-of-type {\n",
              "        vertical-align: middle;\n",
              "    }\n",
              "\n",
              "    .dataframe tbody tr th {\n",
              "        vertical-align: top;\n",
              "    }\n",
              "\n",
              "    .dataframe thead th {\n",
              "        text-align: right;\n",
              "    }\n",
              "</style>\n",
              "<table border=\"1\" class=\"dataframe\">\n",
              "  <thead>\n",
              "    <tr style=\"text-align: right;\">\n",
              "      <th></th>\n",
              "      <th>sno</th>\n",
              "      <th>type of land</th>\n",
              "      <th>type of dredger</th>\n",
              "      <th>fuel_consumed(lt/hr)</th>\n",
              "      <th>total_power(kW)</th>\n",
              "      <th>volume(m3/hr)</th>\n",
              "      <th>total working hours</th>\n",
              "      <th>Required Pump Power</th>\n",
              "      <th>Required Cutter Power</th>\n",
              "    </tr>\n",
              "  </thead>\n",
              "  <tbody>\n",
              "    <tr>\n",
              "      <th>count</th>\n",
              "      <td>64.000000</td>\n",
              "      <td>64.000000</td>\n",
              "      <td>64.000000</td>\n",
              "      <td>64.000000</td>\n",
              "      <td>64.000000</td>\n",
              "      <td>64.000000</td>\n",
              "      <td>64.000000</td>\n",
              "      <td>63.000000</td>\n",
              "      <td>63.000000</td>\n",
              "    </tr>\n",
              "    <tr>\n",
              "      <th>mean</th>\n",
              "      <td>32.500000</td>\n",
              "      <td>1.468750</td>\n",
              "      <td>1.031250</td>\n",
              "      <td>158.578125</td>\n",
              "      <td>678.578125</td>\n",
              "      <td>3810.937500</td>\n",
              "      <td>706.171875</td>\n",
              "      <td>531.015873</td>\n",
              "      <td>151.095238</td>\n",
              "    </tr>\n",
              "    <tr>\n",
              "      <th>std</th>\n",
              "      <td>18.618987</td>\n",
              "      <td>1.112251</td>\n",
              "      <td>0.815889</td>\n",
              "      <td>105.550229</td>\n",
              "      <td>452.736786</td>\n",
              "      <td>1903.640388</td>\n",
              "      <td>145.246977</td>\n",
              "      <td>384.245532</td>\n",
              "      <td>76.177152</td>\n",
              "    </tr>\n",
              "    <tr>\n",
              "      <th>min</th>\n",
              "      <td>1.000000</td>\n",
              "      <td>0.000000</td>\n",
              "      <td>0.000000</td>\n",
              "      <td>31.000000</td>\n",
              "      <td>134.000000</td>\n",
              "      <td>600.000000</td>\n",
              "      <td>346.000000</td>\n",
              "      <td>107.000000</td>\n",
              "      <td>24.000000</td>\n",
              "    </tr>\n",
              "    <tr>\n",
              "      <th>25%</th>\n",
              "      <td>16.750000</td>\n",
              "      <td>0.750000</td>\n",
              "      <td>0.000000</td>\n",
              "      <td>77.500000</td>\n",
              "      <td>331.500000</td>\n",
              "      <td>2175.000000</td>\n",
              "      <td>600.000000</td>\n",
              "      <td>243.500000</td>\n",
              "      <td>85.000000</td>\n",
              "    </tr>\n",
              "    <tr>\n",
              "      <th>50%</th>\n",
              "      <td>32.500000</td>\n",
              "      <td>1.000000</td>\n",
              "      <td>1.000000</td>\n",
              "      <td>118.000000</td>\n",
              "      <td>504.000000</td>\n",
              "      <td>3850.000000</td>\n",
              "      <td>690.000000</td>\n",
              "      <td>361.000000</td>\n",
              "      <td>155.000000</td>\n",
              "    </tr>\n",
              "    <tr>\n",
              "      <th>75%</th>\n",
              "      <td>48.250000</td>\n",
              "      <td>2.000000</td>\n",
              "      <td>2.000000</td>\n",
              "      <td>227.250000</td>\n",
              "      <td>971.750000</td>\n",
              "      <td>5425.000000</td>\n",
              "      <td>785.250000</td>\n",
              "      <td>765.500000</td>\n",
              "      <td>216.000000</td>\n",
              "    </tr>\n",
              "    <tr>\n",
              "      <th>max</th>\n",
              "      <td>64.000000</td>\n",
              "      <td>3.000000</td>\n",
              "      <td>2.000000</td>\n",
              "      <td>410.000000</td>\n",
              "      <td>1758.000000</td>\n",
              "      <td>7000.000000</td>\n",
              "      <td>987.000000</td>\n",
              "      <td>1480.000000</td>\n",
              "      <td>278.000000</td>\n",
              "    </tr>\n",
              "  </tbody>\n",
              "</table>\n",
              "</div>\n",
              "      <button class=\"colab-df-convert\" onclick=\"convertToInteractive('df-a783b803-3bd2-469c-92a7-acb6eeaca842')\"\n",
              "              title=\"Convert this dataframe to an interactive table.\"\n",
              "              style=\"display:none;\">\n",
              "        \n",
              "  <svg xmlns=\"http://www.w3.org/2000/svg\" height=\"24px\"viewBox=\"0 0 24 24\"\n",
              "       width=\"24px\">\n",
              "    <path d=\"M0 0h24v24H0V0z\" fill=\"none\"/>\n",
              "    <path d=\"M18.56 5.44l.94 2.06.94-2.06 2.06-.94-2.06-.94-.94-2.06-.94 2.06-2.06.94zm-11 1L8.5 8.5l.94-2.06 2.06-.94-2.06-.94L8.5 2.5l-.94 2.06-2.06.94zm10 10l.94 2.06.94-2.06 2.06-.94-2.06-.94-.94-2.06-.94 2.06-2.06.94z\"/><path d=\"M17.41 7.96l-1.37-1.37c-.4-.4-.92-.59-1.43-.59-.52 0-1.04.2-1.43.59L10.3 9.45l-7.72 7.72c-.78.78-.78 2.05 0 2.83L4 21.41c.39.39.9.59 1.41.59.51 0 1.02-.2 1.41-.59l7.78-7.78 2.81-2.81c.8-.78.8-2.07 0-2.86zM5.41 20L4 18.59l7.72-7.72 1.47 1.35L5.41 20z\"/>\n",
              "  </svg>\n",
              "      </button>\n",
              "      \n",
              "  <style>\n",
              "    .colab-df-container {\n",
              "      display:flex;\n",
              "      flex-wrap:wrap;\n",
              "      gap: 12px;\n",
              "    }\n",
              "\n",
              "    .colab-df-convert {\n",
              "      background-color: #E8F0FE;\n",
              "      border: none;\n",
              "      border-radius: 50%;\n",
              "      cursor: pointer;\n",
              "      display: none;\n",
              "      fill: #1967D2;\n",
              "      height: 32px;\n",
              "      padding: 0 0 0 0;\n",
              "      width: 32px;\n",
              "    }\n",
              "\n",
              "    .colab-df-convert:hover {\n",
              "      background-color: #E2EBFA;\n",
              "      box-shadow: 0px 1px 2px rgba(60, 64, 67, 0.3), 0px 1px 3px 1px rgba(60, 64, 67, 0.15);\n",
              "      fill: #174EA6;\n",
              "    }\n",
              "\n",
              "    [theme=dark] .colab-df-convert {\n",
              "      background-color: #3B4455;\n",
              "      fill: #D2E3FC;\n",
              "    }\n",
              "\n",
              "    [theme=dark] .colab-df-convert:hover {\n",
              "      background-color: #434B5C;\n",
              "      box-shadow: 0px 1px 3px 1px rgba(0, 0, 0, 0.15);\n",
              "      filter: drop-shadow(0px 1px 2px rgba(0, 0, 0, 0.3));\n",
              "      fill: #FFFFFF;\n",
              "    }\n",
              "  </style>\n",
              "\n",
              "      <script>\n",
              "        const buttonEl =\n",
              "          document.querySelector('#df-a783b803-3bd2-469c-92a7-acb6eeaca842 button.colab-df-convert');\n",
              "        buttonEl.style.display =\n",
              "          google.colab.kernel.accessAllowed ? 'block' : 'none';\n",
              "\n",
              "        async function convertToInteractive(key) {\n",
              "          const element = document.querySelector('#df-a783b803-3bd2-469c-92a7-acb6eeaca842');\n",
              "          const dataTable =\n",
              "            await google.colab.kernel.invokeFunction('convertToInteractive',\n",
              "                                                     [key], {});\n",
              "          if (!dataTable) return;\n",
              "\n",
              "          const docLinkHtml = 'Like what you see? Visit the ' +\n",
              "            '<a target=\"_blank\" href=https://colab.research.google.com/notebooks/data_table.ipynb>data table notebook</a>'\n",
              "            + ' to learn more about interactive tables.';\n",
              "          element.innerHTML = '';\n",
              "          dataTable['output_type'] = 'display_data';\n",
              "          await google.colab.output.renderOutput(dataTable, element);\n",
              "          const docLink = document.createElement('div');\n",
              "          docLink.innerHTML = docLinkHtml;\n",
              "          element.appendChild(docLink);\n",
              "        }\n",
              "      </script>\n",
              "    </div>\n",
              "  </div>\n",
              "  "
            ]
          },
          "metadata": {},
          "execution_count": 7
        }
      ]
    },
    {
      "cell_type": "code",
      "source": [
        "corr = df.corr()\n",
        "corr.style.background_gradient(cmap='coolwarm')"
      ],
      "metadata": {
        "id": "8oZqZhom_BKa",
        "colab": {
          "base_uri": "https://localhost:8080/",
          "height": 421
        },
        "outputId": "62afcbfc-7050-4aec-8df0-0d75aafc8bb1"
      },
      "execution_count": null,
      "outputs": [
        {
          "output_type": "execute_result",
          "data": {
            "text/plain": [
              "<pandas.io.formats.style.Styler at 0x7f6d8df87a10>"
            ],
            "text/html": [
              "<style type=\"text/css\">\n",
              "#T_54883_row0_col0, #T_54883_row0_col5, #T_54883_row0_col8, #T_54883_row1_col1, #T_54883_row2_col2, #T_54883_row3_col3, #T_54883_row3_col4, #T_54883_row3_col7, #T_54883_row4_col3, #T_54883_row4_col4, #T_54883_row4_col7, #T_54883_row5_col0, #T_54883_row5_col5, #T_54883_row5_col8, #T_54883_row6_col6, #T_54883_row7_col3, #T_54883_row7_col4, #T_54883_row7_col7, #T_54883_row8_col0, #T_54883_row8_col5, #T_54883_row8_col8 {\n",
              "  background-color: #b40426;\n",
              "  color: #f1f1f1;\n",
              "}\n",
              "#T_54883_row0_col1, #T_54883_row1_col7, #T_54883_row5_col1 {\n",
              "  background-color: #3f53c6;\n",
              "  color: #f1f1f1;\n",
              "}\n",
              "#T_54883_row0_col2, #T_54883_row5_col2 {\n",
              "  background-color: #445acc;\n",
              "  color: #f1f1f1;\n",
              "}\n",
              "#T_54883_row0_col3, #T_54883_row0_col4, #T_54883_row3_col0, #T_54883_row4_col0, #T_54883_row8_col4 {\n",
              "  background-color: #c53334;\n",
              "  color: #f1f1f1;\n",
              "}\n",
              "#T_54883_row0_col6 {\n",
              "  background-color: #779af7;\n",
              "  color: #f1f1f1;\n",
              "}\n",
              "#T_54883_row0_col7, #T_54883_row7_col0 {\n",
              "  background-color: #cc403a;\n",
              "  color: #f1f1f1;\n",
              "}\n",
              "#T_54883_row1_col0, #T_54883_row1_col3, #T_54883_row1_col4, #T_54883_row1_col5, #T_54883_row2_col6, #T_54883_row2_col7, #T_54883_row2_col8, #T_54883_row3_col1, #T_54883_row4_col1, #T_54883_row8_col2 {\n",
              "  background-color: #3b4cc0;\n",
              "  color: #f1f1f1;\n",
              "}\n",
              "#T_54883_row1_col2 {\n",
              "  background-color: #93b5fe;\n",
              "  color: #000000;\n",
              "}\n",
              "#T_54883_row1_col6, #T_54883_row2_col4 {\n",
              "  background-color: #506bda;\n",
              "  color: #f1f1f1;\n",
              "}\n",
              "#T_54883_row1_col8 {\n",
              "  background-color: #465ecf;\n",
              "  color: #f1f1f1;\n",
              "}\n",
              "#T_54883_row2_col0 {\n",
              "  background-color: #4358cb;\n",
              "  color: #f1f1f1;\n",
              "}\n",
              "#T_54883_row2_col1 {\n",
              "  background-color: #96b7ff;\n",
              "  color: #000000;\n",
              "}\n",
              "#T_54883_row2_col3 {\n",
              "  background-color: #4f69d9;\n",
              "  color: #f1f1f1;\n",
              "}\n",
              "#T_54883_row2_col5 {\n",
              "  background-color: #4257c9;\n",
              "  color: #f1f1f1;\n",
              "}\n",
              "#T_54883_row3_col2, #T_54883_row4_col2 {\n",
              "  background-color: #4c66d6;\n",
              "  color: #f1f1f1;\n",
              "}\n",
              "#T_54883_row3_col5, #T_54883_row3_col8, #T_54883_row4_col5, #T_54883_row4_col8, #T_54883_row5_col3, #T_54883_row5_col4, #T_54883_row8_col3 {\n",
              "  background-color: #c73635;\n",
              "  color: #f1f1f1;\n",
              "}\n",
              "#T_54883_row3_col6, #T_54883_row4_col6 {\n",
              "  background-color: #5d7ce6;\n",
              "  color: #f1f1f1;\n",
              "}\n",
              "#T_54883_row5_col6, #T_54883_row6_col0 {\n",
              "  background-color: #799cf8;\n",
              "  color: #f1f1f1;\n",
              "}\n",
              "#T_54883_row5_col7, #T_54883_row7_col5, #T_54883_row7_col8, #T_54883_row8_col7 {\n",
              "  background-color: #cd423b;\n",
              "  color: #f1f1f1;\n",
              "}\n",
              "#T_54883_row6_col1 {\n",
              "  background-color: #5572df;\n",
              "  color: #f1f1f1;\n",
              "}\n",
              "#T_54883_row6_col2 {\n",
              "  background-color: #3c4ec2;\n",
              "  color: #f1f1f1;\n",
              "}\n",
              "#T_54883_row6_col3, #T_54883_row6_col7 {\n",
              "  background-color: #6180e9;\n",
              "  color: #f1f1f1;\n",
              "}\n",
              "#T_54883_row6_col4 {\n",
              "  background-color: #6282ea;\n",
              "  color: #f1f1f1;\n",
              "}\n",
              "#T_54883_row6_col5 {\n",
              "  background-color: #7a9df8;\n",
              "  color: #f1f1f1;\n",
              "}\n",
              "#T_54883_row6_col8 {\n",
              "  background-color: #85a8fc;\n",
              "  color: #f1f1f1;\n",
              "}\n",
              "#T_54883_row7_col1, #T_54883_row8_col1 {\n",
              "  background-color: #4961d2;\n",
              "  color: #f1f1f1;\n",
              "}\n",
              "#T_54883_row7_col2 {\n",
              "  background-color: #4055c8;\n",
              "  color: #f1f1f1;\n",
              "}\n",
              "#T_54883_row7_col6 {\n",
              "  background-color: #6485ec;\n",
              "  color: #f1f1f1;\n",
              "}\n",
              "#T_54883_row8_col6 {\n",
              "  background-color: #84a7fc;\n",
              "  color: #f1f1f1;\n",
              "}\n",
              "</style>\n",
              "<table id=\"T_54883_\" class=\"dataframe\">\n",
              "  <thead>\n",
              "    <tr>\n",
              "      <th class=\"blank level0\" >&nbsp;</th>\n",
              "      <th class=\"col_heading level0 col0\" >sno</th>\n",
              "      <th class=\"col_heading level0 col1\" >type of land</th>\n",
              "      <th class=\"col_heading level0 col2\" >type of dredger</th>\n",
              "      <th class=\"col_heading level0 col3\" >fuel_consumed(lt/hr)</th>\n",
              "      <th class=\"col_heading level0 col4\" >total_power(kW)</th>\n",
              "      <th class=\"col_heading level0 col5\" >volume(m3/hr)</th>\n",
              "      <th class=\"col_heading level0 col6\" >total working hours</th>\n",
              "      <th class=\"col_heading level0 col7\" >Required Pump Power</th>\n",
              "      <th class=\"col_heading level0 col8\" >Required Cutter Power</th>\n",
              "    </tr>\n",
              "  </thead>\n",
              "  <tbody>\n",
              "    <tr>\n",
              "      <th id=\"T_54883_level0_row0\" class=\"row_heading level0 row0\" >sno</th>\n",
              "      <td id=\"T_54883_row0_col0\" class=\"data row0 col0\" >1.000000</td>\n",
              "      <td id=\"T_54883_row0_col1\" class=\"data row0 col1\" >-0.045989</td>\n",
              "      <td id=\"T_54883_row0_col2\" class=\"data row0 col2\" >-0.016718</td>\n",
              "      <td id=\"T_54883_row0_col3\" class=\"data row0 col3\" >0.948183</td>\n",
              "      <td id=\"T_54883_row0_col4\" class=\"data row0 col4\" >0.948738</td>\n",
              "      <td id=\"T_54883_row0_col5\" class=\"data row0 col5\" >0.999860</td>\n",
              "      <td id=\"T_54883_row0_col6\" class=\"data row0 col6\" >0.154551</td>\n",
              "      <td id=\"T_54883_row0_col7\" class=\"data row0 col7\" >0.929373</td>\n",
              "      <td id=\"T_54883_row0_col8\" class=\"data row0 col8\" >0.999622</td>\n",
              "    </tr>\n",
              "    <tr>\n",
              "      <th id=\"T_54883_level0_row1\" class=\"row_heading level0 row1\" >type of land</th>\n",
              "      <td id=\"T_54883_row1_col0\" class=\"data row1 col0\" >-0.045989</td>\n",
              "      <td id=\"T_54883_row1_col1\" class=\"data row1 col1\" >1.000000</td>\n",
              "      <td id=\"T_54883_row1_col2\" class=\"data row1 col2\" >0.228482</td>\n",
              "      <td id=\"T_54883_row1_col3\" class=\"data row1 col3\" >-0.061701</td>\n",
              "      <td id=\"T_54883_row1_col4\" class=\"data row1 col4\" >-0.063496</td>\n",
              "      <td id=\"T_54883_row1_col5\" class=\"data row1 col5\" >-0.046691</td>\n",
              "      <td id=\"T_54883_row1_col6\" class=\"data row1 col6\" >0.031819</td>\n",
              "      <td id=\"T_54883_row1_col7\" class=\"data row1 col7\" >-0.012931</td>\n",
              "      <td id=\"T_54883_row1_col8\" class=\"data row1 col8\" >-0.009952</td>\n",
              "    </tr>\n",
              "    <tr>\n",
              "      <th id=\"T_54883_level0_row2\" class=\"row_heading level0 row2\" >type of dredger</th>\n",
              "      <td id=\"T_54883_row2_col0\" class=\"data row2 col0\" >-0.016718</td>\n",
              "      <td id=\"T_54883_row2_col1\" class=\"data row2 col1\" >0.228482</td>\n",
              "      <td id=\"T_54883_row2_col2\" class=\"data row2 col2\" >1.000000</td>\n",
              "      <td id=\"T_54883_row2_col3\" class=\"data row2 col3\" >0.012874</td>\n",
              "      <td id=\"T_54883_row2_col4\" class=\"data row2 col4\" >0.013100</td>\n",
              "      <td id=\"T_54883_row2_col5\" class=\"data row2 col5\" >-0.018619</td>\n",
              "      <td id=\"T_54883_row2_col6\" class=\"data row2 col6\" >-0.045185</td>\n",
              "      <td id=\"T_54883_row2_col7\" class=\"data row2 col7\" >-0.030410</td>\n",
              "      <td id=\"T_54883_row2_col8\" class=\"data row2 col8\" >-0.051588</td>\n",
              "    </tr>\n",
              "    <tr>\n",
              "      <th id=\"T_54883_level0_row3\" class=\"row_heading level0 row3\" >fuel_consumed(lt/hr)</th>\n",
              "      <td id=\"T_54883_row3_col0\" class=\"data row3 col0\" >0.948183</td>\n",
              "      <td id=\"T_54883_row3_col1\" class=\"data row3 col1\" >-0.061701</td>\n",
              "      <td id=\"T_54883_row3_col2\" class=\"data row3 col2\" >0.012874</td>\n",
              "      <td id=\"T_54883_row3_col3\" class=\"data row3 col3\" >1.000000</td>\n",
              "      <td id=\"T_54883_row3_col4\" class=\"data row3 col4\" >0.999949</td>\n",
              "      <td id=\"T_54883_row3_col5\" class=\"data row3 col5\" >0.945407</td>\n",
              "      <td id=\"T_54883_row3_col6\" class=\"data row3 col6\" >0.069351</td>\n",
              "      <td id=\"T_54883_row3_col7\" class=\"data row3 col7\" >0.998281</td>\n",
              "      <td id=\"T_54883_row3_col8\" class=\"data row3 col8\" >0.945669</td>\n",
              "    </tr>\n",
              "    <tr>\n",
              "      <th id=\"T_54883_level0_row4\" class=\"row_heading level0 row4\" >total_power(kW)</th>\n",
              "      <td id=\"T_54883_row4_col0\" class=\"data row4 col0\" >0.948738</td>\n",
              "      <td id=\"T_54883_row4_col1\" class=\"data row4 col1\" >-0.063496</td>\n",
              "      <td id=\"T_54883_row4_col2\" class=\"data row4 col2\" >0.013100</td>\n",
              "      <td id=\"T_54883_row4_col3\" class=\"data row4 col3\" >0.999949</td>\n",
              "      <td id=\"T_54883_row4_col4\" class=\"data row4 col4\" >1.000000</td>\n",
              "      <td id=\"T_54883_row4_col5\" class=\"data row4 col5\" >0.945966</td>\n",
              "      <td id=\"T_54883_row4_col6\" class=\"data row4 col6\" >0.070287</td>\n",
              "      <td id=\"T_54883_row4_col7\" class=\"data row4 col7\" >0.998222</td>\n",
              "      <td id=\"T_54883_row4_col8\" class=\"data row4 col8\" >0.946269</td>\n",
              "    </tr>\n",
              "    <tr>\n",
              "      <th id=\"T_54883_level0_row5\" class=\"row_heading level0 row5\" >volume(m3/hr)</th>\n",
              "      <td id=\"T_54883_row5_col0\" class=\"data row5 col0\" >0.999860</td>\n",
              "      <td id=\"T_54883_row5_col1\" class=\"data row5 col1\" >-0.046691</td>\n",
              "      <td id=\"T_54883_row5_col2\" class=\"data row5 col2\" >-0.018619</td>\n",
              "      <td id=\"T_54883_row5_col3\" class=\"data row5 col3\" >0.945407</td>\n",
              "      <td id=\"T_54883_row5_col4\" class=\"data row5 col4\" >0.945966</td>\n",
              "      <td id=\"T_54883_row5_col5\" class=\"data row5 col5\" >1.000000</td>\n",
              "      <td id=\"T_54883_row5_col6\" class=\"data row5 col6\" >0.158696</td>\n",
              "      <td id=\"T_54883_row5_col7\" class=\"data row5 col7\" >0.926192</td>\n",
              "      <td id=\"T_54883_row5_col8\" class=\"data row5 col8\" >0.999774</td>\n",
              "    </tr>\n",
              "    <tr>\n",
              "      <th id=\"T_54883_level0_row6\" class=\"row_heading level0 row6\" >total working hours</th>\n",
              "      <td id=\"T_54883_row6_col0\" class=\"data row6 col0\" >0.154551</td>\n",
              "      <td id=\"T_54883_row6_col1\" class=\"data row6 col1\" >0.031819</td>\n",
              "      <td id=\"T_54883_row6_col2\" class=\"data row6 col2\" >-0.045185</td>\n",
              "      <td id=\"T_54883_row6_col3\" class=\"data row6 col3\" >0.069351</td>\n",
              "      <td id=\"T_54883_row6_col4\" class=\"data row6 col4\" >0.070287</td>\n",
              "      <td id=\"T_54883_row6_col5\" class=\"data row6 col5\" >0.158696</td>\n",
              "      <td id=\"T_54883_row6_col6\" class=\"data row6 col6\" >1.000000</td>\n",
              "      <td id=\"T_54883_row6_col7\" class=\"data row6 col7\" >0.096604</td>\n",
              "      <td id=\"T_54883_row6_col8\" class=\"data row6 col8\" >0.190318</td>\n",
              "    </tr>\n",
              "    <tr>\n",
              "      <th id=\"T_54883_level0_row7\" class=\"row_heading level0 row7\" >Required Pump Power</th>\n",
              "      <td id=\"T_54883_row7_col0\" class=\"data row7 col0\" >0.929373</td>\n",
              "      <td id=\"T_54883_row7_col1\" class=\"data row7 col1\" >-0.012931</td>\n",
              "      <td id=\"T_54883_row7_col2\" class=\"data row7 col2\" >-0.030410</td>\n",
              "      <td id=\"T_54883_row7_col3\" class=\"data row7 col3\" >0.998281</td>\n",
              "      <td id=\"T_54883_row7_col4\" class=\"data row7 col4\" >0.998222</td>\n",
              "      <td id=\"T_54883_row7_col5\" class=\"data row7 col5\" >0.926192</td>\n",
              "      <td id=\"T_54883_row7_col6\" class=\"data row7 col6\" >0.096604</td>\n",
              "      <td id=\"T_54883_row7_col7\" class=\"data row7 col7\" >1.000000</td>\n",
              "      <td id=\"T_54883_row7_col8\" class=\"data row7 col8\" >0.926003</td>\n",
              "    </tr>\n",
              "    <tr>\n",
              "      <th id=\"T_54883_level0_row8\" class=\"row_heading level0 row8\" >Required Cutter Power</th>\n",
              "      <td id=\"T_54883_row8_col0\" class=\"data row8 col0\" >0.999622</td>\n",
              "      <td id=\"T_54883_row8_col1\" class=\"data row8 col1\" >-0.009952</td>\n",
              "      <td id=\"T_54883_row8_col2\" class=\"data row8 col2\" >-0.051588</td>\n",
              "      <td id=\"T_54883_row8_col3\" class=\"data row8 col3\" >0.945669</td>\n",
              "      <td id=\"T_54883_row8_col4\" class=\"data row8 col4\" >0.946269</td>\n",
              "      <td id=\"T_54883_row8_col5\" class=\"data row8 col5\" >0.999774</td>\n",
              "      <td id=\"T_54883_row8_col6\" class=\"data row8 col6\" >0.190318</td>\n",
              "      <td id=\"T_54883_row8_col7\" class=\"data row8 col7\" >0.926003</td>\n",
              "      <td id=\"T_54883_row8_col8\" class=\"data row8 col8\" >1.000000</td>\n",
              "    </tr>\n",
              "  </tbody>\n",
              "</table>\n"
            ]
          },
          "metadata": {},
          "execution_count": 8
        }
      ]
    },
    {
      "cell_type": "code",
      "source": [
        "X = df.iloc[:,[1,2,5,6]]\n",
        "Y = df.iloc[:,[3,4]]"
      ],
      "metadata": {
        "id": "2M7hBsWB_BH5"
      },
      "execution_count": null,
      "outputs": []
    },
    {
      "cell_type": "code",
      "source": [
        "from sklearn.preprocessing import StandardScaler\n"
      ],
      "metadata": {
        "id": "AOUb9ImH_D3N"
      },
      "execution_count": null,
      "outputs": []
    },
    {
      "cell_type": "code",
      "source": [
        "scaler = StandardScaler()"
      ],
      "metadata": {
        "id": "AUbxT3d1_BFc"
      },
      "execution_count": null,
      "outputs": []
    },
    {
      "cell_type": "code",
      "source": [
        "scaler.fit(X)"
      ],
      "metadata": {
        "colab": {
          "base_uri": "https://localhost:8080/"
        },
        "id": "IJD9j11E-jPv",
        "outputId": "098018d3-cd95-492c-ec1a-8a0469db15b9"
      },
      "execution_count": null,
      "outputs": [
        {
          "output_type": "execute_result",
          "data": {
            "text/plain": [
              "StandardScaler()"
            ]
          },
          "metadata": {},
          "execution_count": 15
        }
      ]
    },
    {
      "cell_type": "code",
      "source": [
        "\n",
        "standardized_data = scaler.transform(X)"
      ],
      "metadata": {
        "id": "QMsxL_B7-n7N"
      },
      "execution_count": null,
      "outputs": []
    },
    {
      "cell_type": "code",
      "source": [
        "print(standardized_data)"
      ],
      "metadata": {
        "colab": {
          "base_uri": "https://localhost:8080/"
        },
        "id": "c4JIe7N9-oaY",
        "outputId": "a5ad7975-16d1-4445-d174-91c7cc60ee03"
      },
      "execution_count": null,
      "outputs": [
        {
          "output_type": "stream",
          "name": "stdout",
          "text": [
            "[[-1.33095886 -0.03860457 -1.64712321  0.65109693]\n",
            " [-0.4247741   1.19674173 -1.70006941 -0.73675331]\n",
            " [ 0.48141065  1.19674173 -1.59417701  1.34502205]\n",
            " [ 1.38759541 -1.27395087 -1.54123081 -1.01432336]\n",
            " [-0.4247741   1.19674173 -1.48828461 -2.49932312]\n",
            " [ 0.48141065 -0.03860457 -1.43533841  0.57476517]\n",
            " [ 1.38759541 -0.03860457 -1.38239221 -0.9657486 ]\n",
            " [-1.33095886 -1.27395087 -1.32944601 -0.21630947]\n",
            " [ 0.48141065 -0.03860457 -1.27649981  1.94873691]\n",
            " [ 1.38759541  1.19674173 -1.22355361 -0.34121599]\n",
            " [-1.33095886 -1.27395087 -1.17060741 -2.12460356]\n",
            " [-0.4247741   1.19674173 -1.11766121 -1.43067844]\n",
            " [ 1.38759541 -0.03860457 -1.06471501 -0.73675331]\n",
            " [ 0.48141065 -1.27395087 -1.01176881 -0.19549172]\n",
            " [-1.33095886 -0.03860457 -0.9588226  -0.36203375]\n",
            " [-0.4247741  -1.27395087 -0.9058764   0.54700816]\n",
            " [ 0.48141065  1.19674173 -0.8529302   0.65109693]\n",
            " [-1.33095886 -1.27395087 -0.799984   -0.25100573]\n",
            " [-0.4247741  -0.03860457 -0.7470378   1.90016215]\n",
            " [ 1.38759541  1.19674173 -0.6940916  -0.9518701 ]\n",
            " [ 0.48141065 -0.03860457 -0.6411454  -1.59722046]\n",
            " [-1.33095886 -1.27395087 -0.5881992  -2.49238387]\n",
            " [-0.4247741   1.19674173 -0.535253    1.13684452]\n",
            " [ 1.38759541  1.19674173 -0.4823068  -0.9657486 ]\n",
            " [ 0.48141065 -0.03860457 -0.4293606   0.40822314]\n",
            " [-1.33095886 -1.27395087 -0.3234682  -0.19549172]\n",
            " [-0.4247741   1.19674173 -0.27052199 -0.1122207 ]\n",
            " [ 1.38759541 -0.03860457 -0.21757579 -0.18161322]\n",
            " [-0.4247741  -1.27395087 -0.16462959  0.51231191]\n",
            " [-1.33095886  1.19674173 -0.11168339  0.37352688]\n",
            " [ 0.48141065 -1.27395087 -0.05873719  0.30413437]\n",
            " [ 1.38759541 -0.03860457 -0.00579099  0.51231191]\n",
            " [-1.33095886 -0.03860457  0.04715521  0.37352688]\n",
            " [ 0.48141065  1.19674173  0.10010141 -0.19549172]\n",
            " [ 1.38759541 -1.27395087  0.15304761 -0.1122207 ]\n",
            " [ 0.48141065 -0.03860457  0.20599381  0.57476517]\n",
            " [ 0.48141065  1.19674173  0.25894001  0.51231191]\n",
            " [-0.4247741  -1.27395087  0.31188621  0.37352688]\n",
            " [-1.33095886 -0.03860457  0.36483241 -0.19549172]\n",
            " [ 1.38759541  1.19674173  0.41777862 -0.1122207 ]\n",
            " [-0.4247741   1.19674173  0.47072482  0.51231191]\n",
            " [-1.33095886 -1.27395087  0.52367102 -0.1122207 ]\n",
            " [-0.4247741  -0.03860457  0.57661722  0.57476517]\n",
            " [ 1.38759541  1.19674173  0.62956342  0.30413437]\n",
            " [ 0.48141065 -1.27395087  0.68250962  0.42904089]\n",
            " [ 1.38759541 -0.03860457  0.73545582  0.55394741]\n",
            " [-0.4247741  -1.27395087  0.78840202 -0.11915995]\n",
            " [ 1.38759541 -0.03860457  0.84134822  1.17848002]\n",
            " [ 0.48141065  1.19674173  0.89429442  1.94873691]\n",
            " [-1.33095886 -1.27395087  0.94724062  1.067452  ]\n",
            " [-0.4247741   1.19674173  1.00018682  0.40822314]\n",
            " [-1.33095886 -0.03860457  1.05313302  1.17848002]\n",
            " [-0.4247741  -1.27395087  1.10607923  1.87240515]\n",
            " [ 0.48141065 -1.27395087  1.15902543  1.86546589]\n",
            " [-0.4247741  -0.03860457  1.21197163 -0.95880935]\n",
            " [-1.33095886 -0.03860457  1.26491783 -0.87553834]\n",
            " [ 1.38759541  1.19674173  1.31786403 -0.80614583]\n",
            " [-0.4247741   1.19674173  1.37081023 -0.73675331]\n",
            " [-1.33095886 -1.27395087  1.42375643 -0.25100573]\n",
            " [ 0.48141065 -1.27395087  1.47670263 -0.34121599]\n",
            " [ 1.38759541 -0.03860457  1.52964883 -1.73600549]\n",
            " [ 0.48141065 -0.03860457  1.58259503  0.42904089]\n",
            " [-0.4247741   1.19674173  1.63554123 -0.19549172]\n",
            " [-1.33095886  1.19674173  1.68848743 -0.90329534]]\n"
          ]
        }
      ]
    },
    {
      "cell_type": "code",
      "source": [
        "X = standardized_data\n",
        "Y = df['fuel_consumed(lt/hr)']"
      ],
      "metadata": {
        "id": "aUV0lepR-qU7"
      },
      "execution_count": null,
      "outputs": []
    },
    {
      "cell_type": "code",
      "source": [
        "from sklearn.model_selection import train_test_split\n",
        "X_train, X_test, Y_train, Y_test = train_test_split(X,Y, test_size = 0.2, random_state=2)\n"
      ],
      "metadata": {
        "id": "wPSDkdmZ_KdB"
      },
      "execution_count": null,
      "outputs": []
    },
    {
      "cell_type": "code",
      "source": [
        "from sklearn.linear_model import LinearRegression\n",
        "model = LinearRegression()"
      ],
      "metadata": {
        "id": "rS_pfora_UaX"
      },
      "execution_count": null,
      "outputs": []
    },
    {
      "cell_type": "code",
      "source": [
        "model.fit(X_train,Y_train)"
      ],
      "metadata": {
        "colab": {
          "base_uri": "https://localhost:8080/"
        },
        "id": "6SGmXKcc_UW5",
        "outputId": "3e5731c2-3f92-4deb-81a1-3e7c416452db"
      },
      "execution_count": null,
      "outputs": [
        {
          "output_type": "execute_result",
          "data": {
            "text/plain": [
              "LinearRegression()"
            ]
          },
          "metadata": {},
          "execution_count": 30
        }
      ]
    },
    {
      "cell_type": "code",
      "source": [
        "y_pred=model.predict(X_test)\n",
        "y_pred"
      ],
      "metadata": {
        "colab": {
          "base_uri": "https://localhost:8080/"
        },
        "id": "pvBsIh_-_UUN",
        "outputId": "e7ef22f4-1dbb-4909-d6bc-9f3fb2443390"
      },
      "execution_count": null,
      "outputs": [
        {
          "output_type": "execute_result",
          "data": {
            "text/plain": [
              "array([[ 1.85467942e+02,  7.93909337e+02],\n",
              "       [-1.05579090e+01, -4.57717704e+01],\n",
              "       [ 2.62668682e+02,  1.12616413e+03],\n",
              "       [ 3.04436957e+02,  1.30358978e+03],\n",
              "       [ 1.22257827e+02,  5.20859240e+02],\n",
              "       [ 2.49030491e+02,  1.06790122e+03],\n",
              "       [ 1.73892968e+02,  7.44006135e+02],\n",
              "       [ 1.32929330e+02,  5.68837993e+02],\n",
              "       [ 2.52891668e+02,  1.08352520e+03],\n",
              "       [ 1.62734174e+02,  6.97892999e+02],\n",
              "       [ 5.21072302e-01,  3.47843825e-01],\n",
              "       [ 1.43908691e+02,  6.14907332e+02],\n",
              "       [ 2.34609451e+02,  1.00493680e+03]])"
            ]
          },
          "metadata": {},
          "execution_count": 31
        }
      ]
    },
    {
      "cell_type": "code",
      "source": [
        "from sklearn.metrics import r2_score\n",
        "Accuracy=r2_score(Y_test,y_pred)*100\n",
        "print(\" Accuracy of the model is %.2f\" %Accuracy)"
      ],
      "metadata": {
        "colab": {
          "base_uri": "https://localhost:8080/"
        },
        "id": "4FzUXyyc_URn",
        "outputId": "d9e08e04-a29a-4d0d-9716-8f0ea040c041"
      },
      "execution_count": null,
      "outputs": [
        {
          "output_type": "stream",
          "name": "stdout",
          "text": [
            " Accuracy of the model is 87.16\n"
          ]
        }
      ]
    },
    {
      "cell_type": "code",
      "source": [
        "input_data=(3,1,6600,657)\n",
        "# changing the input_data to numpy array\n",
        "input_data_as_numpy_array = np.asarray(input_data)\n",
        "\n",
        "# reshape the array as we are predicting for one instance\n",
        "input_data_reshaped = input_data_as_numpy_array.reshape(1,-1)\n",
        "\n",
        "# standardize the input data\n",
        "#std_data = scaler.transform(input_data_reshaped)\n",
        "#print(std_data)\n",
        "\n",
        "prediction = model.predict(input_data_reshaped)\n",
        "print(prediction)\n",
        "\n"
      ],
      "metadata": {
        "colab": {
          "base_uri": "https://localhost:8080/"
        },
        "id": "Gt6MTxkt_UOl",
        "outputId": "3dc8901e-8a2e-4880-c7c2-479529d422ed"
      },
      "execution_count": null,
      "outputs": [
        {
          "output_type": "stream",
          "name": "stdout",
          "text": [
            "[[ 308.5821342  1320.69039543]]\n"
          ]
        },
        {
          "output_type": "stream",
          "name": "stderr",
          "text": [
            "/usr/local/lib/python3.7/dist-packages/sklearn/base.py:451: UserWarning: X does not have valid feature names, but LinearRegression was fitted with feature names\n",
            "  \"X does not have valid feature names, but\"\n"
          ]
        }
      ]
    },
    {
      "cell_type": "code",
      "source": [],
      "metadata": {
        "id": "WY-GWzqh_T_p"
      },
      "execution_count": null,
      "outputs": []
    },
    {
      "cell_type": "code",
      "source": [],
      "metadata": {
        "id": "0WXFKNDuBMuX"
      },
      "execution_count": null,
      "outputs": []
    },
    {
      "cell_type": "code",
      "source": [],
      "metadata": {
        "id": "HKYz0gKPBQ7d"
      },
      "execution_count": null,
      "outputs": []
    },
    {
      "cell_type": "code",
      "source": [],
      "metadata": {
        "id": "VGV_FqtnBU-l"
      },
      "execution_count": null,
      "outputs": []
    },
    {
      "cell_type": "code",
      "source": [],
      "metadata": {
        "id": "5dL2mhC6BXXP"
      },
      "execution_count": null,
      "outputs": []
    },
    {
      "cell_type": "code",
      "source": [],
      "metadata": {
        "id": "V9CEwdjzBZTy"
      },
      "execution_count": null,
      "outputs": []
    },
    {
      "cell_type": "code",
      "source": [],
      "metadata": {
        "id": "P5ATdJcQBcQD"
      },
      "execution_count": null,
      "outputs": []
    },
    {
      "cell_type": "code",
      "source": [
        "import pickle"
      ],
      "metadata": {
        "id": "oci4FTsEBeV4"
      },
      "execution_count": null,
      "outputs": []
    },
    {
      "cell_type": "code",
      "source": [
        "filename = 'dredger_calculator.sav'\n",
        "pickle.dump(model, open(filename, 'wb'))"
      ],
      "metadata": {
        "id": "XBbDcjhEBsgj"
      },
      "execution_count": null,
      "outputs": []
    },
    {
      "cell_type": "code",
      "source": [
        "loaded_model = pickle.load(open('dredger_calculator.sav', 'rb'))"
      ],
      "metadata": {
        "id": "jyfHEvYpBxf4"
      },
      "execution_count": null,
      "outputs": []
    },
    {
      "cell_type": "code",
      "source": [],
      "metadata": {
        "id": "CzkIO2GnB0VW"
      },
      "execution_count": null,
      "outputs": []
    }
  ]
}